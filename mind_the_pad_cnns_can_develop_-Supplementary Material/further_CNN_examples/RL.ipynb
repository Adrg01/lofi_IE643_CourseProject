{
 "cells": [
  {
   "cell_type": "markdown",
   "metadata": {},
   "source": [
    "# Demonstrating Artifacts in an RL Model"
   ]
  },
  {
   "cell_type": "markdown",
   "metadata": {},
   "source": [
    "Pre-trained model for playing Atari games by Sam Greydanus downloaded from https://github.com/greydanus/visualize_atari"
   ]
  },
  {
   "cell_type": "markdown",
   "metadata": {},
   "source": [
    "Task and model details in the following paper:\n",
    "Greydanus, et al. Visualizing and understanding atari agents. (ICML 2018) https://arxiv.org/abs/1711.00138"
   ]
  },
  {
   "cell_type": "markdown",
   "metadata": {},
   "source": [
    "## Loading the Model (all layers use zero padding)"
   ]
  },
  {
   "cell_type": "code",
   "execution_count": 1,
   "metadata": {},
   "outputs": [],
   "source": [
    "import torch\n",
    "from torch.autograd import Variable\n",
    "import torch.nn.functional as F\n",
    "import torch.nn as nn\n",
    "\n",
    "import glob\n",
    "import numpy as np\n",
    "\n",
    "class NNPolicy(torch.nn.Module): # an actor-critic neural network\n",
    "    def __init__(self, channels, num_actions):\n",
    "        super(NNPolicy, self).__init__()\n",
    "        self.conv1 = nn.Conv2d(channels, 32, 3, stride=2, padding=1)\n",
    "        self.conv2 = nn.Conv2d(32, 32, 3, stride=2, padding=1)\n",
    "        self.conv3 = nn.Conv2d(32, 32, 3, stride=2, padding=1)\n",
    "        self.conv4 = nn.Conv2d(32, 32, 3, stride=2, padding=1)\n",
    "        self.lstm = nn.LSTMCell(32 * 5 * 5, 256)\n",
    "        self.critic_linear, self.actor_linear = nn.Linear(256, 1), nn.Linear(256, num_actions)\n",
    "\n",
    "    def forward(self, inputs):\n",
    "        inputs = inputs\n",
    "        x = F.elu(self.conv1(inputs))\n",
    "        x = F.elu(self.conv2(x))\n",
    "        x = F.elu(self.conv3(x))\n",
    "        x = F.elu(self.conv4(x))\n",
    "        x = x.view(-1, 32 * 5 * 5)\n",
    "       # hx, cx = self.lstm(x, (hx, cx))\n",
    "        return\n",
    "\n",
    "    def try_load(self, save_dir, checkpoint='*.tar'):\n",
    "        paths = glob.glob(save_dir + checkpoint) ; step = 0\n",
    "        if len(paths) > 0:\n",
    "            ckpts = [int(s.split('.')[-2]) for s in paths]\n",
    "            ix = np.argmax(ckpts) ; step = ckpts[ix]\n",
    "            self.load_state_dict(torch.load(paths[ix]))\n",
    "        print(\"\\tno saved models\") if step is 0 else print(\"\\tloaded model: {}\".format(paths[ix]))\n",
    "        return step\n"
   ]
  },
  {
   "cell_type": "code",
   "execution_count": 2,
   "metadata": {},
   "outputs": [
    {
     "data": {
      "text/plain": [
       "<All keys matched successfully>"
      ]
     },
     "execution_count": 2,
     "metadata": {},
     "output_type": "execute_result"
    }
   ],
   "source": [
    "model = NNPolicy(channels=1, num_actions=6)\n",
    "ckpt = torch.load(\"/work/data/RL/greydanus/overfit-pong-v0/expert/model.40.tar\")\n",
    "model.load_state_dict(ckpt)"
   ]
  },
  {
   "cell_type": "code",
   "execution_count": 3,
   "metadata": {},
   "outputs": [
    {
     "data": {
      "text/plain": [
       "NNPolicy(\n",
       "  (conv1): Conv2d(1, 32, kernel_size=(3, 3), stride=(2, 2), padding=(1, 1))\n",
       "  (conv2): Conv2d(32, 32, kernel_size=(3, 3), stride=(2, 2), padding=(1, 1))\n",
       "  (conv3): Conv2d(32, 32, kernel_size=(3, 3), stride=(2, 2), padding=(1, 1))\n",
       "  (conv4): Conv2d(32, 32, kernel_size=(3, 3), stride=(2, 2), padding=(1, 1))\n",
       "  (lstm): LSTMCell(800, 256)\n",
       "  (critic_linear): Linear(in_features=256, out_features=1, bias=True)\n",
       "  (actor_linear): Linear(in_features=256, out_features=6, bias=True)\n",
       ")"
      ]
     },
     "execution_count": 3,
     "metadata": {},
     "output_type": "execute_result"
    }
   ],
   "source": [
    "model.eval()"
   ]
  },
  {
   "cell_type": "markdown",
   "metadata": {},
   "source": [
    "## Average Feature Maps for 0-valued Input"
   ]
  },
  {
   "cell_type": "code",
   "execution_count": 6,
   "metadata": {},
   "outputs": [],
   "source": [
    "activations = {}\n",
    "def save_activation(name):\n",
    "    def hook(mod, inp, out):\n",
    "        activations[name] = out.detach().numpy()\n",
    "    return hook\n",
    "    \n",
    "for name, mod in model.named_modules():\n",
    "    mod.register_forward_hook(save_activation(name))\n"
   ]
  },
  {
   "cell_type": "code",
   "execution_count": null,
   "metadata": {},
   "outputs": [],
   "source": [
    "model.forward(torch.zeros([1,1, 64, 64]))\n"
   ]
  },
  {
   "cell_type": "code",
   "execution_count": 16,
   "metadata": {
    "scrolled": true
   },
   "outputs": [
    {
     "data": {
      "image/png": "[encoded data removed]",
      "text/plain": [
       "<Figure size 1050x450 with 8 Axes>"
      ]
     },
     "metadata": {
      "needs_background": "light"
     },
     "output_type": "display_data"
    }
   ],
   "source": [
    "num_of_maps = len(activations)\n",
    "fig = plt.figure(figsize=(7,3), dpi=150)\n",
    "plt.subplots_adjust(left=0, bottom=0.1, right=1, top=0.85, wspace=0.1, hspace=0.4)\n",
    "ind = 0\n",
    "for key in activations:\n",
    "    avg_feat_map = np.mean(activations[key], axis=(0, 1))\n",
    "    if len(avg_feat_map.shape) == 2: # fc layer\n",
    "        ax = fig.add_subplot(int(num_of_maps / 4) + 1, 4, ind + 1)\n",
    "        ax.set_title(\"{} - {}\".format(key, activations[key].shape), fontsize=6)\n",
    "        plt.imshow(avg_feat_map)\n",
    "        cbar = plt.colorbar()\n",
    "        cbar.ax.tick_params(labelsize=6) \n",
    "        ax.axis('off')\n",
    "        ax.get_xaxis().set_visible(False)\n",
    "        ax.get_yaxis().set_visible(False)\n",
    "        ind += 1\n"
   ]
  },
  {
   "cell_type": "markdown",
   "metadata": {},
   "source": [
    "Notice the propagation of spatial bias at the top-left corner due to one-sided padding."
   ]
  },
  {
   "cell_type": "markdown",
   "metadata": {},
   "source": [
    "## Visualizing Average Weight Kernels"
   ]
  },
  {
   "cell_type": "code",
   "execution_count": 4,
   "metadata": {},
   "outputs": [
    {
     "name": "stdout",
     "output_type": "stream",
     "text": [
      "(32, 1, 3, 3) - conv1 - <class 'torch.nn.modules.conv.Conv2d'>\n",
      "(32, 32, 3, 3) - conv2 - <class 'torch.nn.modules.conv.Conv2d'>\n",
      "(32, 32, 3, 3) - conv3 - <class 'torch.nn.modules.conv.Conv2d'>\n",
      "(32, 32, 3, 3) - conv4 - <class 'torch.nn.modules.conv.Conv2d'>\n"
     ]
    }
   ],
   "source": [
    "weight_mats = {}\n",
    "total_sum_3x3 = np.zeros([3, 3])\n",
    "total_sum_1x1 = 0\n",
    "for name, mod in model.named_modules():\n",
    "    if hasattr(mod, \"weight\"):\n",
    "        weight_mat = mod.weight.detach().numpy()\n",
    "        if (len(weight_mat.shape)) == 4:\n",
    "            print(\"{} - {} - {}\".format(weight_mat.shape, name, type(mod)))\n",
    "            weight_mats[name] = np.sum(weight_mat, (0, 1))\n",
    "            if len(weight_mats[name]) == 3:\n",
    "                total_sum_3x3 += weight_mats[name]\n",
    "            else:\n",
    "                if len(weight_mats[name]) == 1:\n",
    "                    total_sum_1x1 += np.sum(weight_mats[name])  "
   ]
  },
  {
   "cell_type": "code",
   "execution_count": 5,
   "metadata": {},
   "outputs": [
    {
     "data": {
      "image/png": "[encoded data removed]",
      "text/plain": [
       "<Figure size 1200x300 with 8 Axes>"
      ]
     },
     "metadata": {
      "needs_background": "light"
     },
     "output_type": "display_data"
    }
   ],
   "source": [
    "import matplotlib.pyplot as plt\n",
    "import numpy as np\n",
    "\n",
    "fig = plt.figure(figsize=(8, 2), dpi=150)\n",
    "# fig.suptitle(\"classifier out map per class\", fontsize=12)\n",
    "plt.subplots_adjust(left=0, bottom=0.1, right=1, top=0.85, wspace=0.1, hspace=0.2)\n",
    "ind = 0\n",
    "for key in weight_mats:\n",
    "    if len(weight_mats[key])== 1:\n",
    "        continue\n",
    "    ax = fig.add_subplot(len(weight_mats) / 5 + 1, 5, ind + 1)\n",
    "    ax.set_title(\"{}\".format(key), fontsize=6)\n",
    "    \n",
    "    vmin = np.min(weight_mats[key])\n",
    "    vmax = np.max(weight_mats[key])\n",
    "    max_abs = max(np.abs(vmin), np.abs(vmax))\n",
    "\n",
    "    plt.imshow(weight_mats[key],vmin = -max_abs, vmax = max_abs, cmap=plt.get_cmap('PiYG'))\n",
    "    cbar = plt.colorbar()\n",
    "    cbar.ax.tick_params(labelsize=4) \n",
    "    ax.grid(b=False)\n",
    "    ax.get_xaxis().set_visible(False)\n",
    "    ax.get_yaxis().set_visible(False)\n",
    "    ind += 1\n",
    "\n",
    "\n",
    "\n",
    "\n",
    "\n"
   ]
  }
 ],
 "metadata": {
  "kernelspec": {
   "display_name": "Python 3",
   "language": "python",
   "name": "python3"
  },
  "language_info": {
   "codemirror_mode": {
    "name": "ipython",
    "version": 3
   },
   "file_extension": ".py",
   "mimetype": "text/x-python",
   "name": "python",
   "nbconvert_exporter": "python",
   "pygments_lexer": "ipython3",
   "version": "3.7.5"
  }
 },
 "nbformat": 4,
 "nbformat_minor": 4
}
